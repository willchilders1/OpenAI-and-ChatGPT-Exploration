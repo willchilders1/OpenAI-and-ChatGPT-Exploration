{
 "cells": [
  {
   "cell_type": "code",
   "execution_count": 3,
   "id": "eafc244d",
   "metadata": {},
   "outputs": [
    {
     "name": "stdout",
     "output_type": "stream",
     "text": [
      "Requirement already satisfied: geojson in c:\\users\\will\\anaconda3\\lib\\site-packages (2.5.0)Note: you may need to restart the kernel to use updated packages.\n",
      "\n"
     ]
    }
   ],
   "source": [
    "pip install geojson"
   ]
  },
  {
   "cell_type": "code",
   "execution_count": 6,
   "id": "f70c1b9c",
   "metadata": {},
   "outputs": [
    {
     "name": "stdout",
     "output_type": "stream",
     "text": [
      "Requirement already satisfied: folium in c:\\users\\will\\anaconda3\\lib\\site-packages (0.14.0)\n",
      "Requirement already satisfied: jinja2>=2.9 in c:\\users\\will\\anaconda3\\lib\\site-packages (from folium) (2.11.3)\n",
      "Requirement already satisfied: numpy in c:\\users\\will\\anaconda3\\lib\\site-packages (from folium) (1.20.1)\n",
      "Requirement already satisfied: branca>=0.6.0 in c:\\users\\will\\anaconda3\\lib\\site-packages (from folium) (0.6.0)\n",
      "Requirement already satisfied: requests in c:\\users\\will\\anaconda3\\lib\\site-packages (from folium) (2.25.1)\n",
      "Requirement already satisfied: MarkupSafe>=0.23 in c:\\users\\will\\anaconda3\\lib\\site-packages (from jinja2>=2.9->folium) (1.1.1)\n",
      "Requirement already satisfied: urllib3<1.27,>=1.21.1 in c:\\users\\will\\anaconda3\\lib\\site-packages (from requests->folium) (1.26.4)\n",
      "Requirement already satisfied: chardet<5,>=3.0.2 in c:\\users\\will\\anaconda3\\lib\\site-packages (from requests->folium) (4.0.0)\n",
      "Requirement already satisfied: certifi>=2017.4.17 in c:\\users\\will\\anaconda3\\lib\\site-packages (from requests->folium) (2020.12.5)\n",
      "Requirement already satisfied: idna<3,>=2.5 in c:\\users\\will\\anaconda3\\lib\\site-packages (from requests->folium) (2.10)\n",
      "Note: you may need to restart the kernel to use updated packages.\n"
     ]
    }
   ],
   "source": [
    "pip install folium"
   ]
  },
  {
   "cell_type": "code",
   "execution_count": 5,
   "id": "0e0e83d0",
   "metadata": {},
   "outputs": [],
   "source": [
    "import folium"
   ]
  },
  {
   "cell_type": "code",
   "execution_count": 2,
   "id": "8a9aebfc",
   "metadata": {},
   "outputs": [],
   "source": [
    "import geojson"
   ]
  },
  {
   "cell_type": "code",
   "execution_count": 10,
   "id": "2f7091f6",
   "metadata": {},
   "outputs": [],
   "source": [
    "# read the geojson file\n",
    "with open('data/tesla-superchargers-ma2.geojson') as f:\n",
    "    data = geojson.load(f)\n",
    "\n",
    "# create a basic map\n",
    "m = folium.Map(location=[data['features'][0]['geometry']['coordinates'][1], data['features'][0]['geometry']['coordinates'][0]], zoom_start=8)\n",
    "\n",
    "# add the geojson file to the map\n",
    "folium.GeoJson(data).add_to(m)\n",
    "\n",
    "# save the map\n",
    "m.save('my_map.html')"
   ]
  },
  {
   "cell_type": "code",
   "execution_count": 10,
   "id": "2cefa4c2",
   "metadata": {},
   "outputs": [
    {
     "ename": "TypeError",
     "evalue": "__init__() got an unexpected keyword argument 'point_style'",
     "output_type": "error",
     "traceback": [
      "\u001b[1;31m---------------------------------------------------------------------------\u001b[0m",
      "\u001b[1;31mTypeError\u001b[0m                                 Traceback (most recent call last)",
      "\u001b[1;32m<ipython-input-10-284dd9c62c3a>\u001b[0m in \u001b[0;36m<module>\u001b[1;34m\u001b[0m\n\u001b[0;32m      7\u001b[0m \u001b[1;33m\u001b[0m\u001b[0m\n\u001b[0;32m      8\u001b[0m \u001b[1;31m# add the geojson file to the map\u001b[0m\u001b[1;33m\u001b[0m\u001b[1;33m\u001b[0m\u001b[1;33m\u001b[0m\u001b[0m\n\u001b[1;32m----> 9\u001b[1;33m folium.GeoJson(data,\n\u001b[0m\u001b[0;32m     10\u001b[0m                \u001b[0mstyle_function\u001b[0m\u001b[1;33m=\u001b[0m\u001b[1;32mlambda\u001b[0m \u001b[0mx\u001b[0m\u001b[1;33m:\u001b[0m \u001b[1;33m{\u001b[0m\u001b[1;34m'fillColor'\u001b[0m\u001b[1;33m:\u001b[0m \u001b[1;34m'green'\u001b[0m\u001b[1;33m}\u001b[0m\u001b[1;33m,\u001b[0m\u001b[1;33m\u001b[0m\u001b[1;33m\u001b[0m\u001b[0m\n\u001b[0;32m     11\u001b[0m                point_style=folium.features.CustomIcon('https://upload.wikimedia.org/wikipedia/commons/2/2a/Electric-car-icon.svg',\n",
      "\u001b[1;31mTypeError\u001b[0m: __init__() got an unexpected keyword argument 'point_style'"
     ]
    }
   ],
   "source": [
    "# read the geojson file\n",
    "with open('data/tesla-superchargers-ma2.geojson') as f:\n",
    "    data = geojson.load(f)\n",
    "\n",
    "# create a basic map\n",
    "m = folium.Map(location=[data['features'][0]['geometry']['coordinates'][1], data['features'][0]['geometry']['coordinates'][0]], zoom_start=8)\n",
    "\n",
    "# add the geojson file to the map\n",
    "folium.GeoJson(data,\n",
    "               style_function=lambda x: {'fillColor': 'green'},\n",
    "               point_style=folium.features.CustomIcon('https://upload.wikimedia.org/wikipedia/commons/2/2a/Electric-car-icon.svg',\n",
    "                                                    icon_size=(30, 30))).add_to(m)\n",
    "\n",
    "# save the map\n",
    "m.save('my_map.html')"
   ]
  },
  {
   "cell_type": "code",
   "execution_count": 12,
   "id": "34a47de0",
   "metadata": {},
   "outputs": [],
   "source": [
    "# read the geojson file\n",
    "with open('data/tesla-superchargers-ma2.geojson') as f:\n",
    "    data = geojson.load(f)\n",
    "\n",
    "# create a basic map\n",
    "m = folium.Map(location=[data['features'][0]['geometry']['coordinates'][1], data['features'][0]['geometry']['coordinates'][0]], zoom_start=8)\n",
    "\n",
    "# add the geojson file to the map\n",
    "folium.GeoJson(data,\n",
    "               style_function=lambda x: {'fillColor': 'green', 'icon': folium.features.CustomIcon('https://upload.wikimedia.org/wikipedia/commons/2/2a/Electric-car-icon.svg',\n",
    "                                                                                                 icon_size=(30, 30))}).add_to(m)\n",
    "# save the map\n",
    "m.save('my_map2.html')"
   ]
  },
  {
   "cell_type": "code",
   "execution_count": 15,
   "id": "9ea25f73",
   "metadata": {},
   "outputs": [],
   "source": [
    "# read the geojson file\n",
    "with open('data/tesla-superchargers-ma2.geojson') as f:\n",
    "    data = geojson.load(f)\n",
    "\n",
    "# create a basic map\n",
    "m = folium.Map(location=[data['features'][0]['geometry']['coordinates'][1], data['features'][0]['geometry']['coordinates'][0]], zoom_start=8)\n",
    "\n",
    "# add the geojson file to the map\n",
    "folium.GeoJson(data, \n",
    "               tooltip=folium.features.GeoJsonTooltip(fields=['Station Name', 'Street Address', 'City', 'State', 'ZIP'])).add_to(m)\n",
    "\n",
    "# save the map\n",
    "m.save('my_map3.html')"
   ]
  },
  {
   "cell_type": "code",
   "execution_count": 18,
   "id": "4737f56e",
   "metadata": {},
   "outputs": [],
   "source": [
    "import pandas as pd"
   ]
  },
  {
   "cell_type": "code",
   "execution_count": 20,
   "id": "127452d8",
   "metadata": {},
   "outputs": [
    {
     "name": "stdout",
     "output_type": "stream",
     "text": [
      "Collecting geopandas\n",
      "  Downloading geopandas-0.12.2-py3-none-any.whl (1.1 MB)\n",
      "Collecting fiona>=1.8\n",
      "  Downloading Fiona-1.8.22-cp38-cp38-win_amd64.whl (21.7 MB)\n",
      "Requirement already satisfied: packaging in c:\\users\\will\\anaconda3\\lib\\site-packages (from geopandas) (20.9)\n",
      "Collecting shapely>=1.7\n",
      "  Downloading shapely-2.0.0-cp38-cp38-win_amd64.whl (1.4 MB)\n",
      "Requirement already satisfied: pandas>=1.0.0 in c:\\users\\will\\anaconda3\\lib\\site-packages (from geopandas) (1.2.4)\n",
      "Collecting pyproj>=2.6.1.post1\n",
      "  Downloading pyproj-3.4.1-cp38-cp38-win_amd64.whl (4.9 MB)\n",
      "Requirement already satisfied: click>=4.0 in c:\\users\\will\\anaconda3\\lib\\site-packages (from fiona>=1.8->geopandas) (7.1.2)\n",
      "Requirement already satisfied: attrs>=17 in c:\\users\\will\\anaconda3\\lib\\site-packages (from fiona>=1.8->geopandas) (20.3.0)\n",
      "Requirement already satisfied: six>=1.7 in c:\\users\\will\\anaconda3\\lib\\site-packages (from fiona>=1.8->geopandas) (1.15.0)\n",
      "Collecting click-plugins>=1.0\n",
      "  Downloading click_plugins-1.1.1-py2.py3-none-any.whl (7.5 kB)\n",
      "Collecting cligj>=0.5\n",
      "  Downloading cligj-0.7.2-py3-none-any.whl (7.1 kB)\n",
      "Requirement already satisfied: setuptools in c:\\users\\will\\anaconda3\\lib\\site-packages (from fiona>=1.8->geopandas) (52.0.0.post20210125)\n",
      "Requirement already satisfied: certifi in c:\\users\\will\\anaconda3\\lib\\site-packages (from fiona>=1.8->geopandas) (2020.12.5)\n",
      "Collecting munch\n",
      "  Downloading munch-2.5.0-py2.py3-none-any.whl (10 kB)\n",
      "Requirement already satisfied: numpy>=1.16.5 in c:\\users\\will\\anaconda3\\lib\\site-packages (from pandas>=1.0.0->geopandas) (1.20.1)\n",
      "Requirement already satisfied: python-dateutil>=2.7.3 in c:\\users\\will\\anaconda3\\lib\\site-packages (from pandas>=1.0.0->geopandas) (2.8.1)\n",
      "Requirement already satisfied: pytz>=2017.3 in c:\\users\\will\\anaconda3\\lib\\site-packages (from pandas>=1.0.0->geopandas) (2021.1)\n",
      "Requirement already satisfied: pyparsing>=2.0.2 in c:\\users\\will\\anaconda3\\lib\\site-packages (from packaging->geopandas) (2.4.7)\n",
      "Installing collected packages: munch, cligj, click-plugins, shapely, pyproj, fiona, geopandas\n",
      "Successfully installed click-plugins-1.1.1 cligj-0.7.2 fiona-1.8.22 geopandas-0.12.2 munch-2.5.0 pyproj-3.4.1 shapely-2.0.0\n",
      "Note: you may need to restart the kernel to use updated packages.\n"
     ]
    }
   ],
   "source": [
    "pip install geopandas"
   ]
  },
  {
   "cell_type": "code",
   "execution_count": 23,
   "id": "ac8ca3ef",
   "metadata": {},
   "outputs": [],
   "source": [
    "import geopandas as gpd"
   ]
  },
  {
   "cell_type": "code",
   "execution_count": 24,
   "id": "7c2d012b",
   "metadata": {},
   "outputs": [
    {
     "name": "stderr",
     "output_type": "stream",
     "text": [
      "Can't load requested DLL: C:\\Program Files\\GDAL\\gdalplugins\\gdal_BAG.dll\n",
      "127: The specified procedure could not be found.\n",
      "\n",
      "Can't load requested DLL: C:\\Program Files\\GDAL\\gdalplugins\\gdal_BAG.dll\n",
      "127: The specified procedure could not be found.\n",
      "\n",
      "Can't load requested DLL: C:\\Program Files\\GDAL\\gdalplugins\\gdal_FITS.dll\n",
      "127: The specified procedure could not be found.\n",
      "\n",
      "Can't load requested DLL: C:\\Program Files\\GDAL\\gdalplugins\\gdal_FITS.dll\n",
      "127: The specified procedure could not be found.\n",
      "\n",
      "Can't load requested DLL: C:\\Program Files\\GDAL\\gdalplugins\\gdal_HDF4.dll\n",
      "127: The specified procedure could not be found.\n",
      "\n",
      "Can't load requested DLL: C:\\Program Files\\GDAL\\gdalplugins\\gdal_HDF4.dll\n",
      "127: The specified procedure could not be found.\n",
      "\n",
      "Can't load requested DLL: C:\\Program Files\\GDAL\\gdalplugins\\gdal_HDF4Image.dll\n",
      "127: The specified procedure could not be found.\n",
      "\n",
      "Can't load requested DLL: C:\\Program Files\\GDAL\\gdalplugins\\gdal_HDF4Image.dll\n",
      "127: The specified procedure could not be found.\n",
      "\n",
      "Can't load requested DLL: C:\\Program Files\\GDAL\\gdalplugins\\gdal_HDF5.dll\n",
      "127: The specified procedure could not be found.\n",
      "\n",
      "Can't load requested DLL: C:\\Program Files\\GDAL\\gdalplugins\\gdal_HDF5.dll\n",
      "127: The specified procedure could not be found.\n",
      "\n",
      "Can't load requested DLL: C:\\Program Files\\GDAL\\gdalplugins\\gdal_HDF5Image.dll\n",
      "127: The specified procedure could not be found.\n",
      "\n",
      "Can't load requested DLL: C:\\Program Files\\GDAL\\gdalplugins\\gdal_HDF5Image.dll\n",
      "127: The specified procedure could not be found.\n",
      "\n",
      "Can't load requested DLL: C:\\Program Files\\GDAL\\gdalplugins\\gdal_KEA.dll\n",
      "127: The specified procedure could not be found.\n",
      "\n",
      "Can't load requested DLL: C:\\Program Files\\GDAL\\gdalplugins\\gdal_KEA.dll\n",
      "127: The specified procedure could not be found.\n",
      "\n",
      "Can't load requested DLL: C:\\Program Files\\GDAL\\gdalplugins\\gdal_netCDF.dll\n",
      "127: The specified procedure could not be found.\n",
      "\n",
      "Can't load requested DLL: C:\\Program Files\\GDAL\\gdalplugins\\gdal_netCDF.dll\n",
      "127: The specified procedure could not be found.\n",
      "\n",
      "Can't load requested DLL: C:\\Program Files\\GDAL\\gdalplugins\\gdal_BAG.dll\n",
      "127: The specified procedure could not be found.\n",
      "\n",
      "Can't load requested DLL: C:\\Program Files\\GDAL\\gdalplugins\\gdal_BAG.dll\n",
      "127: The specified procedure could not be found.\n",
      "\n",
      "Can't load requested DLL: C:\\Program Files\\GDAL\\gdalplugins\\gdal_FITS.dll\n",
      "127: The specified procedure could not be found.\n",
      "\n",
      "Can't load requested DLL: C:\\Program Files\\GDAL\\gdalplugins\\gdal_FITS.dll\n",
      "127: The specified procedure could not be found.\n",
      "\n",
      "Can't load requested DLL: C:\\Program Files\\GDAL\\gdalplugins\\gdal_HDF4.dll\n",
      "127: The specified procedure could not be found.\n",
      "\n",
      "Can't load requested DLL: C:\\Program Files\\GDAL\\gdalplugins\\gdal_HDF4.dll\n",
      "127: The specified procedure could not be found.\n",
      "\n",
      "Can't load requested DLL: C:\\Program Files\\GDAL\\gdalplugins\\gdal_HDF4Image.dll\n",
      "127: The specified procedure could not be found.\n",
      "\n",
      "Can't load requested DLL: C:\\Program Files\\GDAL\\gdalplugins\\gdal_HDF4Image.dll\n",
      "127: The specified procedure could not be found.\n",
      "\n",
      "Can't load requested DLL: C:\\Program Files\\GDAL\\gdalplugins\\gdal_HDF5.dll\n",
      "127: The specified procedure could not be found.\n",
      "\n",
      "Can't load requested DLL: C:\\Program Files\\GDAL\\gdalplugins\\gdal_HDF5.dll\n",
      "127: The specified procedure could not be found.\n",
      "\n",
      "Can't load requested DLL: C:\\Program Files\\GDAL\\gdalplugins\\gdal_HDF5Image.dll\n",
      "127: The specified procedure could not be found.\n",
      "\n",
      "Can't load requested DLL: C:\\Program Files\\GDAL\\gdalplugins\\gdal_HDF5Image.dll\n",
      "127: The specified procedure could not be found.\n",
      "\n",
      "Can't load requested DLL: C:\\Program Files\\GDAL\\gdalplugins\\gdal_KEA.dll\n",
      "127: The specified procedure could not be found.\n",
      "\n",
      "Can't load requested DLL: C:\\Program Files\\GDAL\\gdalplugins\\gdal_KEA.dll\n",
      "127: The specified procedure could not be found.\n",
      "\n",
      "Can't load requested DLL: C:\\Program Files\\GDAL\\gdalplugins\\gdal_netCDF.dll\n",
      "127: The specified procedure could not be found.\n",
      "\n",
      "Can't load requested DLL: C:\\Program Files\\GDAL\\gdalplugins\\gdal_netCDF.dll\n",
      "127: The specified procedure could not be found.\n",
      "\n"
     ]
    }
   ],
   "source": [
    "# create a dataframe of the geojson file\n",
    "df = gpd.read_file('data/tesla-superchargers-ma2.geojson')\n",
    "\n",
    "# create a basic map\n",
    "m = folium.Map(location=[df.geometry.iloc[0].y, df.geometry.iloc[0].x], zoom_start=8)\n",
    "\n",
    "# add the geojson file to the map\n",
    "folium.GeoJson(df, \n",
    "               tooltip=folium.features.GeoJsonTooltip(fields=['Station Name', 'Street Address', 'City', 'State', 'ZIP'])).add_to(m)\n",
    "\n",
    "# save the map\n",
    "m.save('my_map4.html')"
   ]
  },
  {
   "cell_type": "code",
   "execution_count": null,
   "id": "5cba3059",
   "metadata": {},
   "outputs": [],
   "source": []
  }
 ],
 "metadata": {
  "kernelspec": {
   "display_name": "Python 3",
   "language": "python",
   "name": "python3"
  },
  "language_info": {
   "codemirror_mode": {
    "name": "ipython",
    "version": 3
   },
   "file_extension": ".py",
   "mimetype": "text/x-python",
   "name": "python",
   "nbconvert_exporter": "python",
   "pygments_lexer": "ipython3",
   "version": "3.8.8"
  }
 },
 "nbformat": 4,
 "nbformat_minor": 5
}
