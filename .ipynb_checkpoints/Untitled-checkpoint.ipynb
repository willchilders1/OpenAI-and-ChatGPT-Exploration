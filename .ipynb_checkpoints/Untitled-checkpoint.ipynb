{
 "cells": [
  {
   "cell_type": "code",
   "execution_count": 1,
   "id": "540eb743",
   "metadata": {},
   "outputs": [
    {
     "name": "stdout",
     "output_type": "stream",
     "text": [
      "Requirement already satisfied: folium==0.7.0 in c:\\users\\will\\anaconda3\\lib\\site-packages (0.7.0)\n",
      "Requirement already satisfied: numpy in c:\\users\\will\\anaconda3\\lib\\site-packages (from folium==0.7.0) (1.20.1)\n",
      "Requirement already satisfied: six in c:\\users\\will\\anaconda3\\lib\\site-packages (from folium==0.7.0) (1.15.0)\n",
      "Requirement already satisfied: requests in c:\\users\\will\\anaconda3\\lib\\site-packages (from folium==0.7.0) (2.25.1)\n",
      "Requirement already satisfied: jinja2 in c:\\users\\will\\anaconda3\\lib\\site-packages (from folium==0.7.0) (2.11.3)\n",
      "Requirement already satisfied: branca>=0.3.0 in c:\\users\\will\\anaconda3\\lib\\site-packages (from folium==0.7.0) (0.6.0)\n",
      "Requirement already satisfied: MarkupSafe>=0.23 in c:\\users\\will\\anaconda3\\lib\\site-packages (from jinja2->folium==0.7.0) (1.1.1)\n",
      "Requirement already satisfied: chardet<5,>=3.0.2 in c:\\users\\will\\anaconda3\\lib\\site-packages (from requests->folium==0.7.0) (4.0.0)\n",
      "Requirement already satisfied: urllib3<1.27,>=1.21.1 in c:\\users\\will\\anaconda3\\lib\\site-packages (from requests->folium==0.7.0) (1.26.4)\n",
      "Requirement already satisfied: certifi>=2017.4.17 in c:\\users\\will\\anaconda3\\lib\\site-packages (from requests->folium==0.7.0) (2020.12.5)\n",
      "Requirement already satisfied: idna<3,>=2.5 in c:\\users\\will\\anaconda3\\lib\\site-packages (from requests->folium==0.7.0) (2.10)\n",
      "Note: you may need to restart the kernel to use updated packages.\n"
     ]
    }
   ],
   "source": [
    "pip install folium==0.7.0"
   ]
  },
  {
   "cell_type": "code",
   "execution_count": 3,
   "id": "3a17ffab",
   "metadata": {},
   "outputs": [],
   "source": [
    "import folium"
   ]
  },
  {
   "cell_type": "code",
   "execution_count": 4,
   "id": "723ea612",
   "metadata": {},
   "outputs": [],
   "source": [
    "import pandas as pd"
   ]
  },
  {
   "cell_type": "code",
   "execution_count": 5,
   "id": "ddda9987",
   "metadata": {},
   "outputs": [],
   "source": [
    "import geopandas as gpd"
   ]
  },
  {
   "cell_type": "code",
   "execution_count": 6,
   "id": "af617a32",
   "metadata": {},
   "outputs": [],
   "source": [
    "import geojson"
   ]
  },
  {
   "cell_type": "code",
   "execution_count": 17,
   "id": "1647954d",
   "metadata": {},
   "outputs": [],
   "source": [
    "from folium.plugins import MarkerCluster"
   ]
  },
  {
   "cell_type": "code",
   "execution_count": 13,
   "id": "c9214f09",
   "metadata": {},
   "outputs": [
    {
     "ename": "ImportError",
     "evalue": "cannot import name 'Marker_Cluster' from 'folium.plugins' (C:\\Users\\Will\\anaconda3\\lib\\site-packages\\folium\\plugins\\__init__.py)",
     "output_type": "error",
     "traceback": [
      "\u001b[1;31m---------------------------------------------------------------------------\u001b[0m",
      "\u001b[1;31mImportError\u001b[0m                               Traceback (most recent call last)",
      "\u001b[1;32m<ipython-input-13-d38ef0382a24>\u001b[0m in \u001b[0;36m<module>\u001b[1;34m\u001b[0m\n\u001b[1;32m----> 1\u001b[1;33m \u001b[1;32mfrom\u001b[0m \u001b[0mfolium\u001b[0m\u001b[1;33m.\u001b[0m\u001b[0mplugins\u001b[0m \u001b[1;32mimport\u001b[0m \u001b[0mMarker_Cluster\u001b[0m\u001b[1;33m\u001b[0m\u001b[1;33m\u001b[0m\u001b[0m\n\u001b[0m",
      "\u001b[1;31mImportError\u001b[0m: cannot import name 'Marker_Cluster' from 'folium.plugins' (C:\\Users\\Will\\anaconda3\\lib\\site-packages\\folium\\plugins\\__init__.py)"
     ]
    }
   ],
   "source": []
  },
  {
   "cell_type": "code",
   "execution_count": 19,
   "id": "9eed4765",
   "metadata": {},
   "outputs": [
    {
     "ename": "AttributeError",
     "evalue": "module 'folium' has no attribute 'Marker_Cluster'",
     "output_type": "error",
     "traceback": [
      "\u001b[1;31m---------------------------------------------------------------------------\u001b[0m",
      "\u001b[1;31mAttributeError\u001b[0m                            Traceback (most recent call last)",
      "\u001b[1;32m<ipython-input-19-ffe253ca08d2>\u001b[0m in \u001b[0;36m<module>\u001b[1;34m\u001b[0m\n\u001b[0;32m      8\u001b[0m \u001b[1;33m\u001b[0m\u001b[0m\n\u001b[0;32m      9\u001b[0m \u001b[1;31m# add the geojson file to the map\u001b[0m\u001b[1;33m\u001b[0m\u001b[1;33m\u001b[0m\u001b[1;33m\u001b[0m\u001b[0m\n\u001b[1;32m---> 10\u001b[1;33m folium.Marker_Cluster(data=df, \n\u001b[0m\u001b[0;32m     11\u001b[0m       \u001b[0micon\u001b[0m\u001b[1;33m=\u001b[0m\u001b[0mfolium\u001b[0m\u001b[1;33m.\u001b[0m\u001b[0mfeatures\u001b[0m\u001b[1;33m.\u001b[0m\u001b[0mCustomIcon\u001b[0m\u001b[1;33m(\u001b[0m\u001b[1;34m'data/tesla-logo.svg'\u001b[0m\u001b[1;33m)\u001b[0m\u001b[1;33m,\u001b[0m\u001b[1;33m\u001b[0m\u001b[1;33m\u001b[0m\u001b[0m\n\u001b[0;32m     12\u001b[0m       tooltip=folium.features.GeoJsonTooltip(fields=['Station Name', 'Street Address', 'City', 'State', 'ZIP'])).add_to(m)\n",
      "\u001b[1;31mAttributeError\u001b[0m: module 'folium' has no attribute 'Marker_Cluster'"
     ]
    }
   ],
   "source": [
    "# create a dataframe of the geojson file\n",
    "df = gpd.read_file('data/tesla-superchargers-ma2.geojson')\n",
    "\n",
    "# create a basic map\n",
    "m = folium.Map(location=[df.geometry.iloc[0].y, df.geometry.iloc[0].x], zoom_start=8)\n",
    "\n",
    "marker_cluster = MarkerCluster().add_to(m)\n",
    "\n",
    "# add the geojson file to the map\n",
    "folium.Marker_Cluster(data=df, \n",
    "      icon=folium.features.CustomIcon('data/tesla-logo.svg'), \n",
    "      tooltip=folium.features.GeoJsonTooltip(fields=['Station Name', 'Street Address', 'City', 'State', 'ZIP'])).add_to(m)\n",
    "\n",
    "# save the map\n",
    "m.save('my_map5.html')"
   ]
  }
 ],
 "metadata": {
  "kernelspec": {
   "display_name": "Python 3",
   "language": "python",
   "name": "python3"
  },
  "language_info": {
   "codemirror_mode": {
    "name": "ipython",
    "version": 3
   },
   "file_extension": ".py",
   "mimetype": "text/x-python",
   "name": "python",
   "nbconvert_exporter": "python",
   "pygments_lexer": "ipython3",
   "version": "3.8.8"
  }
 },
 "nbformat": 4,
 "nbformat_minor": 5
}
